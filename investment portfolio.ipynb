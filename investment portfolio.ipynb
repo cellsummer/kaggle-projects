{
 "metadata": {
  "language_info": {
   "codemirror_mode": {
    "name": "ipython",
    "version": 3
   },
   "file_extension": ".py",
   "mimetype": "text/x-python",
   "name": "python",
   "nbconvert_exporter": "python",
   "pygments_lexer": "ipython3",
   "version": "3.9.2"
  },
  "orig_nbformat": 2,
  "kernelspec": {
   "name": "python392jvsc74a57bd09c5edbcd36668d725664453389c2baf8bbd325a9d821e611b6087ec542b4f420",
   "display_name": "Python 3.9.2 64-bit ('venv')"
  },
  "metadata": {
   "interpreter": {
    "hash": "9c5edbcd36668d725664453389c2baf8bbd325a9d821e611b6087ec542b4f420"
   }
  }
 },
 "nbformat": 4,
 "nbformat_minor": 2,
 "cells": [
  {
   "source": [
    "import pandas as pd \n",
    "import numpy as np\n",
    "from Datasets.unit_fund.fetch_stock_returns import StockInfo\n",
    "import json"
   ],
   "cell_type": "code",
   "metadata": {},
   "execution_count": 1,
   "outputs": []
  },
  {
   "source": [
    "df = pd.read_csv('./Datasets/unit_fund/stock_data.csv')\n",
    "df.head()\n"
   ],
   "cell_type": "code",
   "metadata": {},
   "execution_count": 13,
   "outputs": [
    {
     "output_type": "execute_result",
     "data": {
      "text/plain": [
       "         date       code   close    pctChg       volume        amount\n",
       "0  2021-01-29  sz.000700    5.33 -2.201835  657801100.0  4.076242e+09\n",
       "1  2021-02-26  sz.000700    5.07 -4.878049  161279262.0  8.175865e+08\n",
       "2  2021-03-31  sz.000700    4.78 -5.719921  176811171.0  8.888567e+08\n",
       "3  2021-04-30  sz.000700    5.10  6.694600  391307985.0  2.041305e+09\n",
       "4  2021-01-29  sz.300750  354.11  0.854433  394366904.0  1.530765e+11"
      ],
      "text/html": "<div>\n<style scoped>\n    .dataframe tbody tr th:only-of-type {\n        vertical-align: middle;\n    }\n\n    .dataframe tbody tr th {\n        vertical-align: top;\n    }\n\n    .dataframe thead th {\n        text-align: right;\n    }\n</style>\n<table border=\"1\" class=\"dataframe\">\n  <thead>\n    <tr style=\"text-align: right;\">\n      <th></th>\n      <th>date</th>\n      <th>code</th>\n      <th>close</th>\n      <th>pctChg</th>\n      <th>volume</th>\n      <th>amount</th>\n    </tr>\n  </thead>\n  <tbody>\n    <tr>\n      <th>0</th>\n      <td>2021-01-29</td>\n      <td>sz.000700</td>\n      <td>5.33</td>\n      <td>-2.201835</td>\n      <td>657801100.0</td>\n      <td>4.076242e+09</td>\n    </tr>\n    <tr>\n      <th>1</th>\n      <td>2021-02-26</td>\n      <td>sz.000700</td>\n      <td>5.07</td>\n      <td>-4.878049</td>\n      <td>161279262.0</td>\n      <td>8.175865e+08</td>\n    </tr>\n    <tr>\n      <th>2</th>\n      <td>2021-03-31</td>\n      <td>sz.000700</td>\n      <td>4.78</td>\n      <td>-5.719921</td>\n      <td>176811171.0</td>\n      <td>8.888567e+08</td>\n    </tr>\n    <tr>\n      <th>3</th>\n      <td>2021-04-30</td>\n      <td>sz.000700</td>\n      <td>5.10</td>\n      <td>6.694600</td>\n      <td>391307985.0</td>\n      <td>2.041305e+09</td>\n    </tr>\n    <tr>\n      <th>4</th>\n      <td>2021-01-29</td>\n      <td>sz.300750</td>\n      <td>354.11</td>\n      <td>0.854433</td>\n      <td>394366904.0</td>\n      <td>1.530765e+11</td>\n    </tr>\n  </tbody>\n</table>\n</div>"
     },
     "metadata": {},
     "execution_count": 13
    }
   ]
  },
  {
   "source": [
    "# Define a portfolio\n",
    "myPortfolio = pd.read_json('./Datasets/unit_fund/portfolio.json')['my_portfolio'].to_dict()\n",
    "myPortfolio"
   ],
   "cell_type": "code",
   "metadata": {},
   "execution_count": 11,
   "outputs": [
    {
     "output_type": "execute_result",
     "data": {
      "text/plain": [
       "{'sh.600438': 200, 'sh.601318': 100}"
      ]
     },
     "metadata": {},
     "execution_count": 11
    }
   ]
  },
  {
   "cell_type": "code",
   "execution_count": 12,
   "metadata": {},
   "outputs": [
    {
     "output_type": "stream",
     "name": "stdout",
     "text": [
      "login success!\n",
      "logout success!\n"
     ]
    },
    {
     "output_type": "execute_result",
     "data": {
      "text/plain": [
       "-0.12754790660008042"
      ]
     },
     "metadata": {},
     "execution_count": 12
    }
   ],
   "source": [
    "stocks = StockInfo(portfolio=None)\n",
    "stocks.data = pd.read_csv('./Datasets/unit_fund/stock_data.csv')\n",
    "stocks.portfolio = myPortfolio\n",
    "myReturn = stocks.calcPortfolioReturn()\n",
    "stocks.logout()\n",
    "myReturn\n"
   ]
  },
  {
   "cell_type": "code",
   "execution_count": 28,
   "metadata": {},
   "outputs": [
    {
     "output_type": "stream",
     "name": "stdout",
     "text": [
      "sz.000963: True\nsh.600438: True\nsh.603662: False\n"
     ]
    }
   ],
   "source": [
    "codes = ['sz.000963', 'sh.600438', 'sh.603662']\n",
    "# codes in df.code.values\n",
    "\n",
    "for code in codes:\n",
    "    print(f'{code}: {code in df.code.values}')"
   ]
  },
  {
   "cell_type": "code",
   "execution_count": null,
   "metadata": {},
   "outputs": [],
   "source": []
  }
 ]
}